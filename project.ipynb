{
 "cells": [
  {
   "cell_type": "code",
   "execution_count": 1,
   "id": "50ece7c0-ac70-471f-8475-2adea38a3ead",
   "metadata": {},
   "outputs": [],
   "source": [
    "import matplotlib\n",
    "import matplotlib.pyplot as plt\n",
    "import pandas as pd\n",
    "\n",
    "%matplotlib widget"
   ]
  },
  {
   "cell_type": "code",
   "execution_count": 2,
   "id": "799befcb-4d70-420a-808f-4b77058c9dd0",
   "metadata": {},
   "outputs": [],
   "source": [
    "file_to_load = \"datasets/Motor_Vehicle_Registrations_Dashboard_data.csv\"\n",
    "\n",
    "vehicle_data = pd.read_csv(file_to_load)"
   ]
  },
  {
   "cell_type": "code",
   "execution_count": 3,
   "id": "4fb92738-0a90-4177-bcdb-0ab28fed42cf",
   "metadata": {},
   "outputs": [
    {
     "data": {
      "text/html": [
       "<div>\n",
       "<style scoped>\n",
       "    .dataframe tbody tr th:only-of-type {\n",
       "        vertical-align: middle;\n",
       "    }\n",
       "\n",
       "    .dataframe tbody tr th {\n",
       "        vertical-align: top;\n",
       "    }\n",
       "\n",
       "    .dataframe thead th {\n",
       "        text-align: right;\n",
       "    }\n",
       "</style>\n",
       "<table border=\"1\" class=\"dataframe\">\n",
       "  <thead>\n",
       "    <tr style=\"text-align: right;\">\n",
       "      <th></th>\n",
       "      <th>year</th>\n",
       "      <th>state</th>\n",
       "      <th>Auto</th>\n",
       "      <th>Bus</th>\n",
       "      <th>Truck</th>\n",
       "      <th>Motorcycle</th>\n",
       "    </tr>\n",
       "  </thead>\n",
       "  <tbody>\n",
       "    <tr>\n",
       "      <th>5103</th>\n",
       "      <td>2000</td>\n",
       "      <td>Alabama</td>\n",
       "      <td>1961806.0</td>\n",
       "      <td>8776.0</td>\n",
       "      <td>1989567.0</td>\n",
       "      <td>54849.0</td>\n",
       "    </tr>\n",
       "    <tr>\n",
       "      <th>5104</th>\n",
       "      <td>2000</td>\n",
       "      <td>Alaska</td>\n",
       "      <td>244305.0</td>\n",
       "      <td>2510.0</td>\n",
       "      <td>347584.0</td>\n",
       "      <td>16107.0</td>\n",
       "    </tr>\n",
       "    <tr>\n",
       "      <th>5105</th>\n",
       "      <td>2000</td>\n",
       "      <td>Arizona</td>\n",
       "      <td>2163141.0</td>\n",
       "      <td>4594.0</td>\n",
       "      <td>1626803.0</td>\n",
       "      <td>165094.0</td>\n",
       "    </tr>\n",
       "    <tr>\n",
       "      <th>5106</th>\n",
       "      <td>2000</td>\n",
       "      <td>Arkansas</td>\n",
       "      <td>951243.0</td>\n",
       "      <td>6684.0</td>\n",
       "      <td>882266.0</td>\n",
       "      <td>25020.0</td>\n",
       "    </tr>\n",
       "    <tr>\n",
       "      <th>5107</th>\n",
       "      <td>2000</td>\n",
       "      <td>California</td>\n",
       "      <td>17321413.0</td>\n",
       "      <td>47312.0</td>\n",
       "      <td>10329198.0</td>\n",
       "      <td>448501.0</td>\n",
       "    </tr>\n",
       "  </tbody>\n",
       "</table>\n",
       "</div>"
      ],
      "text/plain": [
       "      year       state        Auto      Bus       Truck  Motorcycle\n",
       "5103  2000     Alabama   1961806.0   8776.0   1989567.0     54849.0\n",
       "5104  2000      Alaska    244305.0   2510.0    347584.0     16107.0\n",
       "5105  2000     Arizona   2163141.0   4594.0   1626803.0    165094.0\n",
       "5106  2000    Arkansas    951243.0   6684.0    882266.0     25020.0\n",
       "5107  2000  California  17321413.0  47312.0  10329198.0    448501.0"
      ]
     },
     "execution_count": 3,
     "metadata": {},
     "output_type": "execute_result"
    }
   ],
   "source": [
    "stats_2000 = vehicle_data.loc[vehicle_data[\"year\"] == 2000]\n",
    "stats_2000.head()"
   ]
  },
  {
   "cell_type": "code",
   "execution_count": 4,
   "id": "9abf267b-bd75-44d8-b152-1585b285a6be",
   "metadata": {},
   "outputs": [],
   "source": [
    "drop_other = stats_2000.drop(labels=[5111, 6172], axis=0)"
   ]
  },
  {
   "cell_type": "code",
   "execution_count": 5,
   "id": "8ac2a64c-6a2c-4f85-9e8d-4ff234c4172f",
   "metadata": {},
   "outputs": [],
   "source": [
    "state_abbreviations = {\n",
    "    \"Alabama\": \"AL\",\n",
    "    \"Alaska\": \"AK\",\n",
    "    \"Arizona\": \"AZ\",\n",
    "    \"Arkansas\": \"AR\",\n",
    "    \"California\": \"CA\",\n",
    "    \"Colorado\": \"CO\",\n",
    "    \"Connecticut\": \"CT\",\n",
    "    \"Delaware\": \"DE\",\n",
    "    \"Florida\": \"FL\",\n",
    "    \"Georgia\": \"GA\",\n",
    "    \"Hawaii\": \"HI\",\n",
    "    \"Idaho\": \"ID\",\n",
    "    \"Illinois\": \"IL\",\n",
    "    \"Indiana\": \"IN\",\n",
    "    \"Iowa\": \"IA\",\n",
    "    \"Kansas\": \"KS\",\n",
    "    \"Kentucky\": \"KY\",\n",
    "    \"Louisiana\": \"LA\",\n",
    "    \"Maine\": \"ME\",\n",
    "    \"Maryland\": \"MD\",\n",
    "    \"Massachusetts\": \"MA\",\n",
    "    \"Michigan\": \"MI\",\n",
    "    \"Minnesota\": \"MN\",\n",
    "    \"Mississippi\": \"MS\",\n",
    "    \"Missouri\": \"MO\",\n",
    "    \"Montana\": \"MT\",\n",
    "    \"Nebraska\": \"NE\",\n",
    "    \"Nevada\": \"NV\",\n",
    "    \"New Hampshire\": \"NH\",\n",
    "    \"New Jersey\": \"NJ\",\n",
    "    \"New Mexico\": \"NM\",\n",
    "    \"New York\": \"NY\",\n",
    "    \"North Carolina\": \"NC\",\n",
    "    \"North Dakota\": \"ND\",\n",
    "    \"Ohio\": \"OH\",\n",
    "    \"Oklahoma\": \"OK\",\n",
    "    \"Oregon\": \"OR\",\n",
    "    \"Pennsylvania\": \"PA\",\n",
    "    \"Rhode Island\": \"RI\",\n",
    "    \"South Carolina\": \"SC\",\n",
    "    \"South Dakota\": \"SD\",\n",
    "    \"Tennessee\": \"TN\",\n",
    "    \"Texas\": \"TX\",\n",
    "    \"Utah\": \"UT\",\n",
    "    \"Vermont\": \"VT\",\n",
    "    \"Virginia\": \"VA\",\n",
    "    \"Washington\": \"WA\",\n",
    "    \"West Virginia\": \"WV\",\n",
    "    \"Wisconsin\": \"WI\",\n",
    "    \"Wyoming\": \"WY\",\n",
    "}"
   ]
  },
  {
   "cell_type": "code",
   "execution_count": 6,
   "id": "c3d11ab2-a23a-4dfe-afdc-956a1c137814",
   "metadata": {},
   "outputs": [
    {
     "data": {
      "text/html": [
       "<div>\n",
       "<style scoped>\n",
       "    .dataframe tbody tr th:only-of-type {\n",
       "        vertical-align: middle;\n",
       "    }\n",
       "\n",
       "    .dataframe tbody tr th {\n",
       "        vertical-align: top;\n",
       "    }\n",
       "\n",
       "    .dataframe thead th {\n",
       "        text-align: right;\n",
       "    }\n",
       "</style>\n",
       "<table border=\"1\" class=\"dataframe\">\n",
       "  <thead>\n",
       "    <tr style=\"text-align: right;\">\n",
       "      <th></th>\n",
       "      <th>year</th>\n",
       "      <th>state</th>\n",
       "      <th>Auto</th>\n",
       "      <th>Bus</th>\n",
       "      <th>Truck</th>\n",
       "      <th>Motorcycle</th>\n",
       "    </tr>\n",
       "  </thead>\n",
       "  <tbody>\n",
       "    <tr>\n",
       "      <th>5103</th>\n",
       "      <td>2000</td>\n",
       "      <td>AL</td>\n",
       "      <td>1961806.0</td>\n",
       "      <td>8776.0</td>\n",
       "      <td>1989567.0</td>\n",
       "      <td>54849.0</td>\n",
       "    </tr>\n",
       "    <tr>\n",
       "      <th>5104</th>\n",
       "      <td>2000</td>\n",
       "      <td>AK</td>\n",
       "      <td>244305.0</td>\n",
       "      <td>2510.0</td>\n",
       "      <td>347584.0</td>\n",
       "      <td>16107.0</td>\n",
       "    </tr>\n",
       "    <tr>\n",
       "      <th>5105</th>\n",
       "      <td>2000</td>\n",
       "      <td>AZ</td>\n",
       "      <td>2163141.0</td>\n",
       "      <td>4594.0</td>\n",
       "      <td>1626803.0</td>\n",
       "      <td>165094.0</td>\n",
       "    </tr>\n",
       "    <tr>\n",
       "      <th>5106</th>\n",
       "      <td>2000</td>\n",
       "      <td>AR</td>\n",
       "      <td>951243.0</td>\n",
       "      <td>6684.0</td>\n",
       "      <td>882266.0</td>\n",
       "      <td>25020.0</td>\n",
       "    </tr>\n",
       "    <tr>\n",
       "      <th>5107</th>\n",
       "      <td>2000</td>\n",
       "      <td>CA</td>\n",
       "      <td>17321413.0</td>\n",
       "      <td>47312.0</td>\n",
       "      <td>10329198.0</td>\n",
       "      <td>448501.0</td>\n",
       "    </tr>\n",
       "  </tbody>\n",
       "</table>\n",
       "</div>"
      ],
      "text/plain": [
       "      year state        Auto      Bus       Truck  Motorcycle\n",
       "5103  2000    AL   1961806.0   8776.0   1989567.0     54849.0\n",
       "5104  2000    AK    244305.0   2510.0    347584.0     16107.0\n",
       "5105  2000    AZ   2163141.0   4594.0   1626803.0    165094.0\n",
       "5106  2000    AR    951243.0   6684.0    882266.0     25020.0\n",
       "5107  2000    CA  17321413.0  47312.0  10329198.0    448501.0"
      ]
     },
     "execution_count": 6,
     "metadata": {},
     "output_type": "execute_result"
    }
   ],
   "source": [
    "stats_2000_short = drop_other.replace(state_abbreviations)\n",
    "stats_2000_short.head()"
   ]
  },
  {
   "cell_type": "code",
   "execution_count": 7,
   "id": "66deb17e-f84c-4954-8caa-e9714a95f1e6",
   "metadata": {},
   "outputs": [
    {
     "data": {
      "text/plain": [
       "<BarContainer object of 50 artists>"
      ]
     },
     "execution_count": 7,
     "metadata": {},
     "output_type": "execute_result"
    },
    {
     "data": {
      "application/vnd.jupyter.widget-view+json": {
       "model_id": "432f176d533b41e1a02b937be9684f6d",
       "version_major": 2,
       "version_minor": 0
      },
      "image/png": "[encoded data removed]",
      "text/html": [
       "\n",
       "            <div style=\"display: inline-block;\">\n",
       "                <div class=\"jupyter-widgets widget-label\" style=\"text-align: center;\">\n",
       "                    Figure\n",
       "                </div>\n",
       "                <img src='data:image/png;base64,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' width=2000.0/>\n",
       "            </div>\n",
       "        "
      ],
      "text/plain": [
       "Canvas(toolbar=Toolbar(toolitems=[('Home', 'Reset original view', 'home', 'home'), ('Back', 'Back to previous …"
      ]
     },
     "metadata": {},
     "output_type": "display_data"
    }
   ],
   "source": [
    "fig = plt.figure(figsize=(20,6))\n",
    "\n",
    "data_keys = stats_2000_short[\"state\"]\n",
    "data_values = stats_2000_short[\"Auto\"]\n",
    "\n",
    "plt.bar(data_keys,\n",
    "        data_values,\n",
    "        color = \"blue\",\n",
    "        )"
   ]
  },
  {
   "cell_type": "code",
   "execution_count": null,
   "id": "219b671a-6f0b-4501-8619-7f4e53640834",
   "metadata": {},
   "outputs": [],
   "source": []
  }
 ],
 "metadata": {
  "kernelspec": {
   "display_name": "Python 3 (ipykernel)",
   "language": "python",
   "name": "python3"
  },
  "language_info": {
   "codemirror_mode": {
    "name": "ipython",
    "version": 3
   },
   "file_extension": ".py",
   "mimetype": "text/x-python",
   "name": "python",
   "nbconvert_exporter": "python",
   "pygments_lexer": "ipython3",
   "version": "3.12.1"
  }
 },
 "nbformat": 4,
 "nbformat_minor": 5
}
